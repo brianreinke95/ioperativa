{
 "cells": [
  {
   "cell_type": "markdown",
   "metadata": {},
   "source": [
    "# Ejercicio:\n",
    "\n",
    ">**1.** En cada jugada se lanza una moneda no alterada en repetidas ocasiones hasta que la diferencia entre el número de caras y cruces que aprecen sea tres.\n",
    "\n",
    "> **2.** Si decide participar, debe pagar un dólar cada vez que se lanza la moneda. No puede abandonar el juego hasta que éste acaba.\n",
    "\n",
    "> **3.** Se reciben 8 dólares al final de cada juego. \n",
    "\n",
    "\n",
    "\n"
   ]
  },
  {
   "cell_type": "code",
   "execution_count": 39,
   "metadata": {},
   "outputs": [],
   "source": [
    "import pandas as pd\n",
    "import numpy as np\n",
    "from random import random\n",
    "import matplotlib.pyplot as plt"
   ]
  },
  {
   "cell_type": "code",
   "execution_count": 40,
   "metadata": {},
   "outputs": [],
   "source": [
    "def juego():\n",
    "    nro_juegos = 10000\n",
    "    partidas = 0\n",
    "    vec_ganancias = np.zeros(nro_juegos)\n",
    "    vec_vueltas = np.zeros(nro_juegos)\n",
    "    vec_caras = np.zeros(nro_juegos)\n",
    "    vec_secas = np.zeros(nro_juegos)\n",
    "\n",
    "    while partidas < nro_juegos:\n",
    "        nro_caras = 0\n",
    "        nro_secas = 0\n",
    "        nro_lanzamientos = 0\n",
    "        while (nro_caras - nro_secas) < 3 and (nro_caras-nro_secas) > -3:\n",
    "            var_al_unif = random()      # 0 o 1\n",
    "            if var_al_unif < 0.5:\n",
    "                nro_caras += 1\n",
    "            else:\n",
    "                nro_secas += 1\n",
    "            nro_lanzamientos += 1\n",
    "        Ganancia = 8 - nro_lanzamientos\n",
    "\n",
    "        ### Para cada partida guardo los datos en el vector:\n",
    "        vec_ganancias[partidas] = Ganancia\n",
    "        vec_vueltas[partidas] = nro_lanzamientos\n",
    "        vec_caras[partidas] = nro_caras\n",
    "        vec_secas[partidas] = nro_secas\n",
    "\n",
    "        partidas += 1\n",
    "    return vec_ganancias, vec_vueltas, vec_caras, vec_secas"
   ]
  },
  {
   "cell_type": "markdown",
   "metadata": {},
   "source": [
    "La función ***juego()*** simula un numero específico de partidas del juego propuesto por el ejercicio. Al final de cada juego se computa la ganancia y se guardan todos los datos en vectores. Al terminar con todos los juegos se devuelven los vectores con los datos guardados."
   ]
  },
  {
   "cell_type": "code",
   "execution_count": 41,
   "metadata": {},
   "outputs": [],
   "source": [
    "def crear_tabla(vec_ganancias, vec_lanzamientos, vec_caras, vec_secas):\n",
    "    dataset = pd.DataFrame({'Caras': vec_caras, 'Secas': vec_secas, 'Nro_Lanzamientos': vec_lanzamientos,\n",
    "                            'Ganancias': vec_ganancias})\n",
    "    dataset.index = np.arange(1, len(dataset)+1)  # Hago que el index empiece en 1 y no en 0 por comodidad.\n",
    "    dataset.index.names = ['Partida']  # Cambio el nombre al index por Partida.\n",
    "    muestra_visual = dataset.loc[[1, 2, 3, 4, 5, 6, 7, 8, 9, 10, 100, 1000], :]  # Tabla de visualización\n",
    "    print(muestra_visual)\n",
    "\n",
    "    return dataset  # Devuelvo el DataFrame (tabla) creado"
   ]
  },
  {
   "cell_type": "markdown",
   "metadata": {},
   "source": [
    "**crear_tabla()** como su nombre lo indica crea el *DataFrame* que se utilizará para almacenar todos los datos sustraídos de los juegos."
   ]
  },
  {
   "cell_type": "code",
   "execution_count": 42,
   "metadata": {},
   "outputs": [],
   "source": [
    "def mostrar_promedios(df):\n",
    "    promedios = df.agg('mean', axis='rows')\n",
    "    df_promedios = pd.DataFrame(promedios)\n",
    "    df_promedios.columns = ['Promedios']\n",
    "    print(df_promedios)"
   ]
  },
  {
   "cell_type": "markdown",
   "metadata": {},
   "source": [
    "A partir del *DataFrame* se muestra el promedio del total de todos sus atributos.\n",
    "\n",
    "Se puede observar que en promedio siempre estaremos perdiendo dinero $ -1±0.2 $ dólares. Es decir la media del número de lanzamientos es de **9 lanzamientos** por juego."
   ]
  },
  {
   "cell_type": "code",
   "execution_count": 43,
   "metadata": {},
   "outputs": [],
   "source": [
    "def crear_graficos(df):\n",
    "\n",
    "    df4 = df.groupby(['Nro_Lanzamientos'])  # Separo los datos según el número de lanzamientos totales.\n",
    "    NFilas = np.zeros(len(df4))\n",
    "    vec_lanzamientos = np.zeros(len(df4))\n",
    "    NCol = np.zeros(len(df4))\n",
    "    i = 0\n",
    "    for g, gf in df4:\n",
    "        gf.reindex()  # Problemas al llamar a index de otra forma a números enteros. Reset.\n",
    "        NFilas[i], NCol[i] = gf.shape  # Número de veces que obtuve el mismo nro de lanzamientos.\n",
    "        vec_lanzamientos[i] = g  # Valor númerico de esos lanzamientos.\n",
    "        i += 1\n",
    "\n",
    "    df_ocurrencias_lanzamientos = pd.DataFrame(\n",
    "        {\n",
    "            'nro_tiradas': vec_lanzamientos,\n",
    "            'ocurrencias': NFilas\n",
    "        }\n",
    "    )\n",
    "    df_ocurrencias_lanzamientos.set_index('nro_tiradas', inplace=True)\n",
    "\n",
    "    plt.subplot(121)\n",
    "    plt.bar(vec_lanzamientos, NFilas)\n",
    "    plt.title('Ocurrencias de Nro de Lanzamientos', loc='right')\n",
    "    plt.ylabel('Ocurrencias')\n",
    "    plt.xlabel('Nro_tiradas')\n",
    "\n",
    "    plt.subplot(122)\n",
    "    plt.bar(df.index, df['Nro_Lanzamientos'])\n",
    "    plt.title('Tiradas en cada partida', loc='right')\n",
    "    plt.ylabel('Nro tiradas')\n",
    "    plt.xlabel('Partidas')\n",
    "    plt.show()"
   ]
  },
  {
   "cell_type": "markdown",
   "metadata": {},
   "source": [
    "Con esta función se crean 2 gráficos. Uno muestra el número de ocurrencias del número de lanzamientos ocurridos en un juego. El otro muestra el número de lanzamientos de todas las partidas. \n",
    "\n",
    "Se puede observar que en el primer gráficos obtenemos una distribución exponencial de los resultados. Es más frecuente que el juego termine en pocas jugadas a que se alargue mucho.  "
   ]
  },
  {
   "cell_type": "markdown",
   "metadata": {},
   "source": [
    "> **Por último tenemos al main del programa que se encarga de comenzar el juego y llamar al resto de funciones.**"
   ]
  },
  {
   "cell_type": "code",
   "execution_count": 44,
   "metadata": {},
   "outputs": [
    {
     "name": "stdout",
     "output_type": "stream",
     "text": [
      "         Caras  Secas  Nro_Lanzamientos  Ganancias\n",
      "Partida                                           \n",
      "1          3.0    0.0               3.0        5.0\n",
      "2          6.0    3.0               9.0       -1.0\n",
      "3          3.0    6.0               9.0       -1.0\n",
      "4          5.0    8.0              13.0       -5.0\n",
      "5          1.0    4.0               5.0        3.0\n",
      "6         10.0    7.0              17.0       -9.0\n",
      "7          3.0    0.0               3.0        5.0\n",
      "8          0.0    3.0               3.0        5.0\n",
      "9          5.0    2.0               7.0        1.0\n",
      "10         5.0    8.0              13.0       -5.0\n",
      "100        1.0    4.0               5.0        3.0\n",
      "1000       1.0    4.0               5.0        3.0\n",
      "                  Promedios\n",
      "Caras                4.5317\n",
      "Secas                4.4633\n",
      "Nro_Lanzamientos     8.9950\n",
      "Ganancias           -0.9950\n"
     ]
    },
    {
     "data": {
      "image/png": "[encoded data removed]",
      "text/plain": [
       "<Figure size 432x288 with 2 Axes>"
      ]
     },
     "metadata": {
      "needs_background": "light"
     },
     "output_type": "display_data"
    }
   ],
   "source": [
    "############################   Main del programa  #########################################\n",
    "\n",
    "# Los vectores conseguidos en la función 'juego()' se las ingreso a la función 'crear tabla'\n",
    "a, b, c, d = juego()\n",
    "df = crear_tabla(a, b, c, d)\n",
    "mostrar_promedios(df)\n",
    "crear_graficos(df)"
   ]
  }
 ],
 "metadata": {
  "kernelspec": {
   "display_name": "Python 3",
   "language": "python",
   "name": "python3"
  },
  "language_info": {
   "codemirror_mode": {
    "name": "ipython",
    "version": 3
   },
   "file_extension": ".py",
   "mimetype": "text/x-python",
   "name": "python",
   "nbconvert_exporter": "python",
   "pygments_lexer": "ipython3",
   "version": "3.7.1"
  }
 },
 "nbformat": 4,
 "nbformat_minor": 2
}
